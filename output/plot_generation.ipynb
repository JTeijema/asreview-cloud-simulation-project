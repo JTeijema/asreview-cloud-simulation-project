{
 "cells": [
  {
   "cell_type": "code",
   "execution_count": null,
   "metadata": {},
   "outputs": [],
   "source": [
    "from asreviewcontrib.insights.plot import _plot_recall\n",
    "import matplotlib\n",
    "matplotlib.use('Agg')\n",
    "import matplotlib.pyplot as plt\n",
    "import json\n",
    "import os\n",
    "import pandas as pd\n",
    "import numpy as np"
   ]
  },
  {
   "cell_type": "code",
   "execution_count": null,
   "metadata": {},
   "outputs": [],
   "source": [
    "# get all folders in simulations\n",
    "folders = os.listdir(\"simulations\")"
   ]
  },
  {
   "cell_type": "code",
   "execution_count": null,
   "metadata": {},
   "outputs": [],
   "source": [
    "dataset_records = {\n",
    "    \"Appenzeller-Herzog_2019\": 2873,\n",
    "    \"Bos_2018\": 4878,\n",
    "    \"Brouwer_2019\": 38114,\n",
    "    \"Chou_2003\": 1908,\n",
    "    \"Chou_2004\": 1630,\n",
    "    \"Donners_2021\": 258,\n",
    "    \"Hall_2012\": 8793,\n",
    "    \"Jeyaraman_2020\": 1175,\n",
    "    \"Leenaars_2019\": 5812,\n",
    "    \"Leenaars_2020\": 7216,\n",
    "    \"Meijboom_2021\": 882,\n",
    "    \"Menon_2022\": 975,\n",
    "    \"Moran_2021\": 5214,\n",
    "    \"Muthu_2021\": 2719,\n",
    "    \"Nelson_2002\": 366,\n",
    "    \"Oud_2018\": 952,\n",
    "    \"Radjenovic_2013\": 5935,\n",
    "    \"Sep_2021\": 271,\n",
    "    \"Smid_2020\": 2627,\n",
    "    \"van_de\": 4544,\n",
    "    \"Valk_2021\": 725,\n",
    "    \"van_der\": 1970,\n",
    "    \"van_Dis\": 9128,\n",
    "    \"Walker_2018\": 48375,\n",
    "    \"Wassenaar_2017\": 7668,\n",
    "    \"Wolters_2018\": 4280\n",
    "}"
   ]
  },
  {
   "cell_type": "code",
   "execution_count": null,
   "metadata": {},
   "outputs": [],
   "source": [
    "def get_labels(df):\n",
    "    return [[inner_list[1] for inner_list in row] for row in df.iloc[:, 4].apply(lambda x: x['value'])]\n",
    "\n",
    "def tds_to_records(labels):\n",
    "    records = []\n",
    "    for i in range(labels[-1]):\n",
    "        if i+1 in labels:\n",
    "            records.append(1)\n",
    "        else:\n",
    "            records.append(0)\n",
    "    return records\n",
    "\n",
    "def pad_simulation_labels(labels, n_records):\n",
    "    return labels + np.zeros(n_records - len(labels)).tolist()"
   ]
  },
  {
   "cell_type": "code",
   "execution_count": null,
   "metadata": {},
   "outputs": [],
   "source": [
    "for folder in folders:\n",
    "    metrics = []\n",
    "\n",
    "    # get all json files in folder\n",
    "    files = os.listdir(\"simulations\\\\\" + folder)\n",
    "    \n",
    "    # loop over files and append metrics to list\n",
    "    for file in files:\n",
    "        if file.endswith(\".json\"):\n",
    "            # open file\n",
    "            with open(os.path.join(\"simulations\\\\\", folder, file), 'r') as f:\n",
    "                        data = json.load(f)\n",
    "                        metrics.append(data['data']['items'])\n",
    "    \n",
    "    df = pd.DataFrame(metrics)\n",
    "\n",
    "    fig, ax = plt.subplots()\n",
    "\n",
    "    # get n_records from dataset_records (first part of folder name is key)\n",
    "    n_records = dataset_records[folder.split(\"_\")[0]+\"_\"+folder.split(\"_\")[1]]\n",
    "\n",
    "    for label in get_labels(df):\n",
    "        _plot_recall(ax, pad_simulation_labels(tds_to_records(label), n_records), y_absolute=True)\n",
    "\n",
    "    # folder name as title but _ is space\n",
    "    plt.title(folder.replace(\"_\", \" \"))\n",
    "\n",
    "    # set size\n",
    "    fig.set_size_inches(6.4, 4.8)\n",
    "\n",
    "    # save figure\n",
    "    plt.savefig(\"plots\\plot_recall_sim_\"+folder+\".png\", facecolor='w', dpi=100)\n",
    "    print(\"Saved plot for \" + folder)"
   ]
  }
 ],
 "metadata": {
  "kernelspec": {
   "display_name": "Python 3",
   "language": "python",
   "name": "python3"
  },
  "language_info": {
   "codemirror_mode": {
    "name": "ipython",
    "version": 3
   },
   "file_extension": ".py",
   "mimetype": "text/x-python",
   "name": "python",
   "nbconvert_exporter": "python",
   "pygments_lexer": "ipython3",
   "version": "3.9.8"
  },
  "orig_nbformat": 4
 },
 "nbformat": 4,
 "nbformat_minor": 2
}
