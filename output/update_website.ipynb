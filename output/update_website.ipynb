{
 "cells": [
  {
   "cell_type": "code",
   "execution_count": null,
   "metadata": {},
   "outputs": [],
   "source": [
    "import os\n",
    "import json\n",
    "\n",
    "# Specify the directories\n",
    "plots_dir = \"./plots\"\n",
    "simulations_dir = \"./simulations\"\n",
    "\n",
    "# Collect data about the images\n",
    "images_data = []\n",
    "for file_name in os.listdir(plots_dir):\n",
    "    if file_name.endswith(\".png\"):\n",
    "        image_path = os.path.join(\"plots\", file_name).replace(\"\\\\\", \"/\")\n",
    "        images_data.append({\"name\": file_name[:-4], \"imagePath\": \"https://sos-de-fra-1.exo.io/asreview-output/\"+ image_path})\n",
    "\n",
    "# Count the number of simulations\n",
    "count = 0\n",
    "for folder_name in os.listdir(simulations_dir):\n",
    "    folder_path = os.path.join(simulations_dir, folder_name)\n",
    "    if os.path.isdir(folder_path):\n",
    "        for file_name in os.listdir(folder_path):\n",
    "            if file_name.endswith(\".json\"):\n",
    "                count += 1\n",
    "\n",
    "print(f\"There are {count} simulations in the folder.\")\n",
    "print(f\"There are {count*6511} datapoints in the results.\")"
   ]
  },
  {
   "cell_type": "code",
   "execution_count": null,
   "metadata": {},
   "outputs": [],
   "source": [
    "with open(r\"C:\\Users\\5927226\\Documents\\GitHub\\synergy-simulations\\data.json\", \"w\") as json_file:\n",
    "    json.dump({\"images\": images_data, \"count\": count}, json_file)"
   ]
  }
 ],
 "metadata": {
  "kernelspec": {
   "display_name": "Python 3",
   "language": "python",
   "name": "python3"
  },
  "language_info": {
   "codemirror_mode": {
    "name": "ipython",
    "version": 3
   },
   "file_extension": ".py",
   "mimetype": "text/x-python",
   "name": "python",
   "nbconvert_exporter": "python",
   "pygments_lexer": "ipython3",
   "version": "3.9.8"
  },
  "orig_nbformat": 4
 },
 "nbformat": 4,
 "nbformat_minor": 2
}
