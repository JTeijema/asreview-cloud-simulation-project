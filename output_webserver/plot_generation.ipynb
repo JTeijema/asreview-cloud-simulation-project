{
 "cells": [
  {
   "cell_type": "code",
   "execution_count": null,
   "metadata": {},
   "outputs": [],
   "source": [
    "from asreviewcontrib.insights.plot import _plot_recall\n",
    "import matplotlib.pyplot as plt\n",
    "import json\n",
    "import os\n",
    "import pandas as pd\n",
    "import numpy as np"
   ]
  },
  {
   "cell_type": "code",
   "execution_count": null,
   "metadata": {},
   "outputs": [],
   "source": [
    "!synergy list"
   ]
  },
  {
   "cell_type": "code",
   "execution_count": null,
   "metadata": {},
   "outputs": [],
   "source": [
    "dataset = \"Donners_2021\"\n",
    "n_records = 258"
   ]
  },
  {
   "cell_type": "code",
   "execution_count": null,
   "metadata": {},
   "outputs": [],
   "source": [
    "# load all files in simulations folder\n",
    "metrics = []\n",
    "\n",
    "for root, dirs, files in os.walk(\"simulations\"):\n",
    "    for folder_name in dirs:\n",
    "        if folder_name.startswith(dataset):\n",
    "            folder_path = os.path.join(root, folder_name)\n",
    "            for file in os.listdir(folder_path):\n",
    "                if file.endswith(\".json\"):\n",
    "                    with open(os.path.join(folder_path, file), 'r') as f:\n",
    "                        data = json.load(f)\n",
    "                        metrics.append(data['data']['items'])\n",
    "\n",
    "df = pd.DataFrame(metrics)"
   ]
  },
  {
   "cell_type": "code",
   "execution_count": null,
   "metadata": {},
   "outputs": [],
   "source": [
    "# load labels list\n",
    "labels = [[inner_list[1] for inner_list in row] for row in df.iloc[:, 4].apply(lambda x: x['value'])]"
   ]
  },
  {
   "cell_type": "code",
   "execution_count": null,
   "metadata": {},
   "outputs": [],
   "source": [
    "def tds_to_records(labels):\n",
    "    records = []\n",
    "    for i in range(labels[-1]):\n",
    "        if i+1 in labels:\n",
    "            records.append(1)\n",
    "        else:\n",
    "            records.append(0)\n",
    "    return records\n",
    "\n",
    "def pad_simulation_labels(labels, n_records):\n",
    "    # if less labels than records, check if all labels available\n",
    "    if len(labels) < n_records:\n",
    "\n",
    "        labels = labels + np.zeros(n_records - len(labels)).tolist()\n",
    "\n",
    "    return labels"
   ]
  },
  {
   "cell_type": "code",
   "execution_count": null,
   "metadata": {},
   "outputs": [],
   "source": [
    "fig, ax = plt.subplots()\n",
    "\n",
    "for label in labels:\n",
    "    _plot_recall(ax, pad_simulation_labels(tds_to_records(label), n_records))\n",
    "\n",
    "# add title\n",
    "plt.title(dataset)\n",
    "\n",
    "# set size\n",
    "fig.set_size_inches(18.5, 10.5)\n",
    "\n",
    "# save figure\n",
    "plt.savefig(\"plot.png\", facecolor='w')"
   ]
  }
 ],
 "metadata": {
  "kernelspec": {
   "display_name": "Python 3",
   "language": "python",
   "name": "python3"
  },
  "language_info": {
   "codemirror_mode": {
    "name": "ipython",
    "version": 3
   },
   "file_extension": ".py",
   "mimetype": "text/x-python",
   "name": "python",
   "nbconvert_exporter": "python",
   "pygments_lexer": "ipython3",
   "version": "3.9.8"
  },
  "orig_nbformat": 4
 },
 "nbformat": 4,
 "nbformat_minor": 2
}
