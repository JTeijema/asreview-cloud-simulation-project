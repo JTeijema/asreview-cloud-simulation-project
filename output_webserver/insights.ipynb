{
 "cells": [
  {
   "cell_type": "code",
   "execution_count": 102,
   "metadata": {},
   "outputs": [],
   "source": [
    "from asreviewcontrib.insights.plot import _plot_recall\n",
    "import matplotlib.pyplot as plt\n",
    "import json\n",
    "import os\n",
    "import pandas as pd\n",
    "import numpy as np"
   ]
  },
  {
   "cell_type": "code",
   "execution_count": 103,
   "metadata": {},
   "outputs": [
    {
     "name": "stdout",
     "output_type": "stream",
     "text": [
      "\n",
      "   Nr  Dataset                  Topic(s)                           Records    Included     %\n",
      "----  -----------------------  -------------------------------  ---------  ----------  ----\n",
      "   1  Appenzeller-Herzog_2019  Medicine                              2873          26   0.9\n",
      "   2  Bos_2018                 Medicine                              4878          10   0.2\n",
      "   3  Brouwer_2019             Psychology, Medicine                 38114          62   0.2\n",
      "   4  Chou_2003                Medicine                              1908          15   0.8\n",
      "   5  Chou_2004                Medicine                              1630           9   0.6\n",
      "   6  Donners_2021             Medicine                               258          15   5.8\n",
      "   7  Hall_2012                Computer science                      8793         104   1.2\n",
      "   8  Jeyaraman_2020           Medicine                              1175          96   8.2\n",
      "   9  Leenaars_2019            Psychology, Chemistry, Medicine       5812          17   0.3\n",
      "  10  Leenaars_2020            Medicine                              7216         583   8.1\n",
      "  11  Meijboom_2021            Medicine                               882          37   4.2\n",
      "  12  Menon_2022               Medicine                               975          74   7.6\n",
      "  13  Moran_2021               Biology, Medicine                     5214         111   2.1\n",
      "  14  Muthu_2021               Medicine                              2719         336  12.4\n",
      "  15  Nelson_2002              Medicine                               366          80  21.9\n",
      "  16  Oud_2018                 Psychology, Medicine                   952          20   2.1\n",
      "  17  Radjenovic_2013          Computer science                      5935          48   0.8\n",
      "  18  Sep_2021                 Psychology                             271          40  14.8\n",
      "  19  Smid_2020                Computer science, Mathematics         2627          27   1\n",
      "  20  van_de_Schoot_2018       Psychology, Medicine                  4544          38   0.8\n",
      "  21  Valk_2021                Medicine, Psychology                   725          89  12.3\n",
      "  22  van_der_Waal_2022        Medicine                              1970          33   1.7\n",
      "  23  van_Dis_2020             Psychology, Medicine                  9128          72   0.8\n",
      "  24  Walker_2018              Biology, Medicine                    48375         762   1.6\n",
      "  25  Wassenaar_2017           Medicine, Biology, Chemistry          7668         111   1.4\n",
      "  26  Wolters_2018             Medicine                              4280          19   0.4 \n",
      "\n",
      "Total records = 169288, total inclusions 2834 (1.67%)\n",
      "\n"
     ]
    }
   ],
   "source": [
    "!synergy list"
   ]
  },
  {
   "cell_type": "code",
   "execution_count": 104,
   "metadata": {},
   "outputs": [],
   "source": [
    "dataset = \"Donners_2021\"\n",
    "n_records = 258"
   ]
  },
  {
   "cell_type": "code",
   "execution_count": 105,
   "metadata": {},
   "outputs": [],
   "source": [
    "# load all files in output_webserver\\simulations\\Donners_2021_-m_logistic_-e_doc2vec\n",
    "metrics = []\n",
    "\n",
    "for root, dirs, files in os.walk(\"simulations\"):\n",
    "    for folder_name in dirs:\n",
    "        if folder_name.startswith(dataset):\n",
    "            folder_path = os.path.join(root, folder_name)\n",
    "            for file in os.listdir(folder_path):\n",
    "                if file.endswith(\".json\"):\n",
    "                    with open(os.path.join(folder_path, file), 'r') as f:\n",
    "                        data = json.load(f)\n",
    "                        metrics.append(data['data']['items'])\n",
    "\n",
    "df = pd.DataFrame(metrics)"
   ]
  },
  {
   "cell_type": "code",
   "execution_count": 106,
   "metadata": {},
   "outputs": [],
   "source": [
    "# load labels list\n",
    "labels = [[inner_list[1] for inner_list in row] for row in df.iloc[:, 4].apply(lambda x: x['value'])]"
   ]
  },
  {
   "cell_type": "code",
   "execution_count": 107,
   "metadata": {},
   "outputs": [],
   "source": [
    "def tds_to_records(labels):\n",
    "    records = []\n",
    "    for i in range(labels[-1]):\n",
    "        if i+1 in labels:\n",
    "            records.append(1)\n",
    "        else:\n",
    "            records.append(0)\n",
    "    return records\n",
    "\n",
    "def pad_simulation_labels(labels, n_records):\n",
    "    # if less labels than records, check if all labels available\n",
    "    if len(labels) < n_records:\n",
    "\n",
    "        labels = labels + np.zeros(n_records - len(labels)).tolist()\n",
    "\n",
    "    return labels"
   ]
  },
  {
   "cell_type": "code",
   "execution_count": 108,
   "metadata": {},
   "outputs": [
    {
     "data": {
      "image/png": "[encoded data removed]",
      "text/plain": [
       "<Figure size 432x288 with 1 Axes>"
      ]
     },
     "metadata": {
      "needs_background": "light"
     },
     "output_type": "display_data"
    }
   ],
   "source": [
    "fig, ax = plt.subplots()\n",
    "\n",
    "for label in labels:\n",
    "    _plot_recall(ax, pad_simulation_labels(tds_to_records(label), n_records))"
   ]
  }
 ],
 "metadata": {
  "kernelspec": {
   "display_name": "Python 3",
   "language": "python",
   "name": "python3"
  },
  "language_info": {
   "codemirror_mode": {
    "name": "ipython",
    "version": 3
   },
   "file_extension": ".py",
   "mimetype": "text/x-python",
   "name": "python",
   "nbconvert_exporter": "python",
   "pygments_lexer": "ipython3",
   "version": "3.9.8"
  },
  "orig_nbformat": 4
 },
 "nbformat": 4,
 "nbformat_minor": 2
}
