{
 "cells": [
  {
   "cell_type": "code",
   "execution_count": null,
   "metadata": {},
   "outputs": [],
   "source": [
    "import os"
   ]
  },
  {
   "cell_type": "code",
   "execution_count": null,
   "metadata": {},
   "outputs": [],
   "source": [
    "dataset_records = {\n",
    "    \"Appenzeller-Herzog_2019\": 2873,\n",
    "    \"Bos_2018\": 4878,\n",
    "    \"Brouwer_2019\": 38114,\n",
    "    \"Chou_2003\": 1908,\n",
    "    \"Chou_2004\": 1630,\n",
    "    \"Donners_2021\": 258,\n",
    "    \"Hall_2012\": 8793,\n",
    "    \"Jeyaraman_2020\": 1175,\n",
    "    \"Leenaars_2019\": 5812,\n",
    "    \"Leenaars_2020\": 7216,\n",
    "    \"Meijboom_2021\": 882,\n",
    "    \"Menon_2022\": 975,\n",
    "    \"Moran_2021\": 5214,\n",
    "    \"Muthu_2021\": 2719,\n",
    "    \"Nelson_2002\": 366,\n",
    "    \"Oud_2018\": 952,\n",
    "    \"Radjenovic_2013\": 5935,\n",
    "    \"Sep_2021\": 271,\n",
    "    \"Smid_2020\": 2627,\n",
    "    \"van_de\": 4544,\n",
    "    \"Valk_2021\": 725,\n",
    "    \"van_der\": 1970,\n",
    "    \"van_Dis\": 9128,\n",
    "    \"Walker_2018\": 48375,\n",
    "    \"Wassenaar_2017\": 7668,\n",
    "    \"Wolters_2018\": 4280\n",
    "}"
   ]
  },
  {
   "cell_type": "code",
   "execution_count": null,
   "metadata": {},
   "outputs": [],
   "source": [
    "# dict keys to list \n",
    "files = list(dataset_records.keys())"
   ]
  },
  {
   "cell_type": "code",
   "execution_count": null,
   "metadata": {},
   "outputs": [],
   "source": [
    "def generate_job(setting, files, model, fe):\n",
    "  for dataset in files:\n",
    "    template = f\"\"\"apiVersion: batch/v1\n",
    "kind: Job\n",
    "metadata:\n",
    "  name: sim-{dataset.lower().replace(\"_\",\"-\")[:-4]}-{model.lower().replace('_','-')}-{fe.lower().replace('_','-')}\n",
    "spec:\n",
    "  ttlSecondsAfterFinished: 100\n",
    "  template:\n",
    "      metadata:\n",
    "        labels:\n",
    "          app: simulation\n",
    "      spec:\n",
    "        restartPolicy: Never\n",
    "        containers:\n",
    "        - name: sim\n",
    "          image: ghcr.io/jteijema/asreview-simulation-project:latest\n",
    "          resources:\n",
    "            requests:\n",
    "              cpu: \"1\"\n",
    "          env:\n",
    "          - name: DATASET\n",
    "            value: {dataset[:-4]}\n",
    "          - name: SETTINGS\n",
    "            value: \"{setting}\"\n",
    "          envFrom:\n",
    "            - secretRef:\n",
    "                name: exoscale-credentials\"\"\"\n",
    "    # save template to file\n",
    "    with open(f\"jobs/sim-{model}-{fe}-{dataset.lower().replace('_','-')[:-4]}.yaml\", \"w\") as f:\n",
    "        f.write(template)\n",
    "    "
   ]
  },
  {
   "cell_type": "code",
   "execution_count": null,
   "metadata": {},
   "outputs": [],
   "source": [
    "# settings generator (no nb)\n",
    "!mkdir jobs\n",
    "\n",
    "settings = []\n",
    "\n",
    "exclude = [\"nn-2-layer:tfidf\"]\n",
    "\n",
    "for model in [\"logistic\", \"rf\", \"svm\"]:                                                    # \"logistic\", \"nn-2-layer\", \"xgboost\", \"rf\", \"svm\"\n",
    "    for fe in [\"tfidf\", \"doc2vec\", \"reuseable_MiniLM\", \"reuseable_sbert\"]:                 # \"tfidf\", \"doc2vec\", \"\"reuseable_MiniLM\", \"reuseable_sbert\"\n",
    "                if not f\"{model}:{fe}\" in exclude:\n",
    "                    setting = \"-m {model} -e {fe}\".format(model=model, fe=fe)\n",
    "                    settings.append(setting)\n",
    "                    generate_job(setting, files, model, fe)"
   ]
  },
  {
   "cell_type": "code",
   "execution_count": null,
   "metadata": {},
   "outputs": [],
   "source": [
    "# get all jobs\n",
    "jobs = os.listdir('jobs')\n",
    "for job in jobs:\n",
    "    #!kubectl create -f ./jobs/{job}\n",
    "    print(job)"
   ]
  }
 ],
 "metadata": {
  "kernelspec": {
   "display_name": "Python 3",
   "language": "python",
   "name": "python3"
  },
  "language_info": {
   "codemirror_mode": {
    "name": "ipython",
    "version": 3
   },
   "file_extension": ".py",
   "mimetype": "text/x-python",
   "name": "python",
   "nbconvert_exporter": "python",
   "pygments_lexer": "ipython3",
   "version": "3.9.8"
  },
  "orig_nbformat": 4
 },
 "nbformat": 4,
 "nbformat_minor": 2
}
