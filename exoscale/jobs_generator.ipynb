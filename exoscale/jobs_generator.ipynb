{
 "cells": [
  {
   "cell_type": "code",
   "execution_count": null,
   "metadata": {},
   "outputs": [],
   "source": [
    "import os\n",
    "\n",
    "# load all datasets in synergy_dataset\n",
    "path = 'synergy_dataset'\n",
    "files = os.listdir(path)\n",
    "files = [f for f in files if f.endswith('.csv')]"
   ]
  },
  {
   "cell_type": "code",
   "execution_count": null,
   "metadata": {},
   "outputs": [],
   "source": [
    "files = ['Leenaars_2020.csv', 'Walker_2018.csv']"
   ]
  },
  {
   "cell_type": "code",
   "execution_count": null,
   "metadata": {},
   "outputs": [],
   "source": [
    "def generate_job(setting, files, model, fe):\n",
    "  for dataset in files:\n",
    "    template = f\"\"\"apiVersion: batch/v1\n",
    "kind: Job\n",
    "metadata:\n",
    "  name: sim-{dataset.lower().replace(\"_\",\"-\")[:-4]}-{model.lower().replace('_','-')}-{fe.lower().replace('_','-')}\n",
    "spec:\n",
    "  ttlSecondsAfterFinished: 100\n",
    "  template:\n",
    "      metadata:\n",
    "        labels:\n",
    "          app: simulation\n",
    "      spec:\n",
    "        restartPolicy: Never\n",
    "        containers:\n",
    "        - name: sim\n",
    "          image: ghcr.io/jteijema/asreview-simulation-project:latest\n",
    "          resources:\n",
    "            requests:\n",
    "              cpu: \"1\"\n",
    "          env:\n",
    "          - name: DATASET\n",
    "            value: {dataset[:-4]}\n",
    "          - name: SETTINGS\n",
    "            value: \"{setting}\"\n",
    "          envFrom:\n",
    "            - secretRef:\n",
    "                name: exoscale-credentials\"\"\"\n",
    "    # save template to file\n",
    "    with open(f\"jobs/sim-{model}-{fe}-{dataset.lower().replace('_','-')[:-4]}.yaml\", \"w\") as f:\n",
    "        f.write(template)\n",
    "    "
   ]
  },
  {
   "cell_type": "code",
   "execution_count": null,
   "metadata": {},
   "outputs": [],
   "source": [
    "# settings generator (no nb)\n",
    "!mkdir jobs\n",
    "\n",
    "settings = []\n",
    "\n",
    "exclude = [\"nn-2-layer:tfidf\"]\n",
    "\n",
    "for model in [\"logistic\", \"nn-2-layer\", \"xgboost\", \"rf\", \"svm\"]:                                                    # \"logistic\", \"nn-2-layer\", \"xgboost\", \"rf\", \"svm\"\n",
    "    for fe in [\"tfidf\", \"doc2vec\", \"reuseable_MiniLM\", \"reuseable_sbert\"]:                 # \"tfidf\", \"doc2vec\", \"\"reuseable_MiniLM\", \"reuseable_sbert\"\n",
    "                if not f\"{model}:{fe}\" in exclude:\n",
    "                    setting = \"-m {model} -e {fe}\".format(model=model, fe=fe)\n",
    "                    settings.append(setting)\n",
    "                    generate_job(setting, files, model, fe)"
   ]
  },
  {
   "cell_type": "code",
   "execution_count": null,
   "metadata": {},
   "outputs": [],
   "source": [
    "# get all jobs\n",
    "jobs = os.listdir('jobs')\n",
    "for job in jobs:\n",
    "    !kubectl create -f ./jobs/{job}"
   ]
  },
  {
   "cell_type": "code",
   "execution_count": null,
   "metadata": {},
   "outputs": [],
   "source": [
    "!kubectl get pods"
   ]
  }
 ],
 "metadata": {
  "kernelspec": {
   "display_name": "Python 3",
   "language": "python",
   "name": "python3"
  },
  "language_info": {
   "codemirror_mode": {
    "name": "ipython",
    "version": 3
   },
   "file_extension": ".py",
   "mimetype": "text/x-python",
   "name": "python",
   "nbconvert_exporter": "python",
   "pygments_lexer": "ipython3",
   "version": "3.9.8"
  },
  "orig_nbformat": 4
 },
 "nbformat": 4,
 "nbformat_minor": 2
}
