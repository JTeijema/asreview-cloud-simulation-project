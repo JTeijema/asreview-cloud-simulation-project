{
 "cells": [
  {
   "cell_type": "code",
   "execution_count": null,
   "metadata": {},
   "outputs": [],
   "source": [
    "import os\n",
    "\n",
    "# load all datasets in synergy_dataset\n",
    "path = 'synergy_dataset'\n",
    "files = os.listdir(path)\n",
    "files = [f for f in files if f.endswith('.csv')]"
   ]
  },
  {
   "cell_type": "code",
   "execution_count": null,
   "metadata": {},
   "outputs": [],
   "source": [
    "# settings generator \n",
    "\n",
    "settings = []\n",
    "exclude = [\"nb:tfidf\",\"nn-2-layer:tfidf\",\"rf:reuseable_MiniLM\",\"logistic:tfidf\"]\n",
    "\n",
    "for model in [\"logistic\"]:                          # \"nb\",\"logistic\", \"nn-2-layer\", \"xgboost\", \"rf\", \"svm\"\n",
    "    for fe in [\"tfidf\"]:                            # \"tfidf\", \"doc2vec\", \"embedding-idf\", \"reuseable_MiniLM\", \"reuseable_sbert\"\n",
    "#       for b in [\"max\"]:                           # \"simple\", \"double\", \"triple\", \"undersample\"\n",
    "#           for q in [\"double\"]:                    # \"max\", \"max_random\", \"max_uncertainty\", \"uncertainty\", \"cluster\"\n",
    "                if not f\"{model}:{fe}\" in exclude:\n",
    "                    settings.append(\"-m {model} -e {fe}\".format(model=model, fe=fe))\n",
    "print(settings, \"\\n\",settings.__len__()*26*109)"
   ]
  },
  {
   "cell_type": "code",
   "execution_count": null,
   "metadata": {},
   "outputs": [],
   "source": [
    "for i, setting in enumerate(settings):\n",
    "    i = i+2\n",
    "    for dataset in files:\n",
    "        template = f\"\"\"apiVersion: batch/v1\n",
    "kind: Job\n",
    "metadata:\n",
    "  name: sim-{dataset.lower().replace(\"_\",\"-\")[:-4]}-{i}\n",
    "spec:\n",
    "  ttlSecondsAfterFinished: 100\n",
    "  template:\n",
    "      metadata:\n",
    "        labels:\n",
    "          app: simulation\n",
    "      spec:\n",
    "        restartPolicy: Never\n",
    "        containers:\n",
    "        - name: sim\n",
    "          image: ghcr.io/jteijema/asreview-simulation-project:latest\n",
    "          resources:\n",
    "            requests:\n",
    "              memory: 4Gi\n",
    "              cpu: 500m\n",
    "          env:\n",
    "          - name: DATASET\n",
    "            value: {dataset[:-4]}\n",
    "          - name: SETTINGS\n",
    "            value: \"{setting}\"\n",
    "          - name: EXOSCALE_API_KEY\n",
    "            valueFrom:\n",
    "              secretKeyRef:\n",
    "                name: exoscale-credentials\n",
    "                key: EXOSCALE_API_KEY\n",
    "          - name: EXOSCALE_API_SECRET\n",
    "            valueFrom:\n",
    "              secretKeyRef:\n",
    "                name: exoscale-credentials\n",
    "                key: EXOSCALE_API_SECRET\n",
    "          - name: EXOSCALE_STORAGE_ZONE\n",
    "            valueFrom:\n",
    "              secretKeyRef:\n",
    "                name: exoscale-credentials\n",
    "                key: EXOSCALE_STORAGE_ZONE\n",
    "          - name: BUCKET\n",
    "            valueFrom:\n",
    "              secretKeyRef:\n",
    "                name: exoscale-credentials\n",
    "                key: BUCKET\"\"\"\n",
    "\n",
    "        # save template to file\n",
    "        with open(f\"jobs/sim-{i}-{dataset.lower().replace('_','-')[:-4]}.yaml\", \"w\") as f:\n",
    "            f.write(template)\n",
    "    "
   ]
  },
  {
   "cell_type": "code",
   "execution_count": null,
   "metadata": {},
   "outputs": [],
   "source": [
    "# get all jobs\n",
    "jobs = os.listdir('jobs')\n",
    "for job in jobs:\n",
    "    print(f\"!kubectl create -f ./jobs/{job}\")\n",
    "    !kubectl create -f ./jobs/{job}"
   ]
  }
 ],
 "metadata": {
  "kernelspec": {
   "display_name": "Python 3",
   "language": "python",
   "name": "python3"
  },
  "language_info": {
   "codemirror_mode": {
    "name": "ipython",
    "version": 3
   },
   "file_extension": ".py",
   "mimetype": "text/x-python",
   "name": "python",
   "nbconvert_exporter": "python",
   "pygments_lexer": "ipython3",
   "version": "3.9.8"
  },
  "orig_nbformat": 4
 },
 "nbformat": 4,
 "nbformat_minor": 2
}
