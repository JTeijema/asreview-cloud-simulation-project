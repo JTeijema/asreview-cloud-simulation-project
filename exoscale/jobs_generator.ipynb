{
 "cells": [
  {
   "cell_type": "code",
   "execution_count": 1,
   "metadata": {},
   "outputs": [],
   "source": [
    "import os\n",
    "import pandas as pd\n",
    "\n",
    "# load all datasets in synergy_dataset\n",
    "path = 'synergy_dataset'\n",
    "files = os.listdir(path)\n",
    "files = [f for f in files if f.endswith('.csv')]"
   ]
  },
  {
   "cell_type": "code",
   "execution_count": null,
   "metadata": {},
   "outputs": [],
   "source": [
    "# settings generator \n",
    "for model in [\"nb\", \"logistic\", \"nn-2-layer\", \"xgboost\"]:\n",
    "    for fe in [\"tfidf\", \"doc2vec\", \"embedding-idf\", \"embedding-lstm\", \"reuseable_MiniLM\", \"reuseable_sbert\"]:\n",
    "        for b in [\"simple\", \"double\", \"triple\", \"undersample\"]:\n",
    "            for q in [\"max\", \"max_random\", \"max_uncertainty\", \"uncertainty\", \"cluster\"]:\n"
   ]
  },
  {
   "cell_type": "code",
   "execution_count": 2,
   "metadata": {},
   "outputs": [],
   "source": [
    "settings = [\"\"]#[\"-m rf -e reuseable_MiniLM\", \"-m nb -e tfidf\"]\n",
    "for i, setting in enumerate(settings):\n",
    "    for dataset in files:\n",
    "        template = f\"\"\"apiVersion: batch/v1\n",
    "kind: Job\n",
    "metadata:\n",
    "  name: sim-{dataset.lower().replace(\"_\",\"-\")[:-4]}-{i}\n",
    "spec:\n",
    "  template:\n",
    "      metadata:\n",
    "        labels:\n",
    "          app: simulation\n",
    "      spec:\n",
    "        restartPolicy: Never\n",
    "        containers:\n",
    "        - name: sim\n",
    "          image: ghcr.io/jteijema/asreview-simulation-project:v1.1.0\n",
    "          resources:\n",
    "            requests:\n",
    "              memory: 4Gi\n",
    "              cpu: 500m\n",
    "          env:\n",
    "          - name: DATASET\n",
    "            value: {dataset[:-4]}\n",
    "          - name: SETTINGS\n",
    "            value: \"{setting}\"\n",
    "          - name: EXOSCALE_API_KEY\n",
    "            valueFrom:\n",
    "              secretKeyRef:\n",
    "                name: exoscale-credentials\n",
    "                key: EXOSCALE_API_KEY\n",
    "          - name: EXOSCALE_API_SECRET\n",
    "            valueFrom:\n",
    "              secretKeyRef:\n",
    "                name: exoscale-credentials\n",
    "                key: EXOSCALE_API_SECRET\n",
    "          - name: EXOSCALE_STORAGE_ZONE\n",
    "            valueFrom:\n",
    "              secretKeyRef:\n",
    "                name: exoscale-credentials\n",
    "                key: EXOSCALE_STORAGE_ZONE\n",
    "          - name: BUCKET\n",
    "            valueFrom:\n",
    "              secretKeyRef:\n",
    "                name: exoscale-credentials\n",
    "                key: BUCKET\"\"\"\n",
    "\n",
    "        # save template to file\n",
    "        with open(f\"jobs/sim-{i}-{dataset.lower().replace('_','-')[:-4]}.yaml\", \"w\") as f:\n",
    "            f.write(template)\n",
    "    "
   ]
  },
  {
   "cell_type": "code",
   "execution_count": null,
   "metadata": {},
   "outputs": [],
   "source": [
    "# get all jobs\n",
    "jobs = os.listdir('jobs')\n",
    "for job in jobs:\n",
    "    print(f\"!kubectl create -f ./jobs/{job}\")\n",
    "    !kubectl create -f ./jobs/{job}"
   ]
  }
 ],
 "metadata": {
  "kernelspec": {
   "display_name": "Python 3",
   "language": "python",
   "name": "python3"
  },
  "language_info": {
   "codemirror_mode": {
    "name": "ipython",
    "version": 3
   },
   "file_extension": ".py",
   "mimetype": "text/x-python",
   "name": "python",
   "nbconvert_exporter": "python",
   "pygments_lexer": "ipython3",
   "version": "3.9.8"
  },
  "orig_nbformat": 4
 },
 "nbformat": 4,
 "nbformat_minor": 2
}
