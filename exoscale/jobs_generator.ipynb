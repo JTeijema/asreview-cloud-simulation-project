{
 "cells": [
  {
   "cell_type": "code",
   "execution_count": null,
   "metadata": {},
   "outputs": [],
   "source": [
    "import os\n",
    "\n",
    "# load all datasets in synergy_dataset\n",
    "path = 'synergy_dataset'\n",
    "files = os.listdir(path)\n",
    "files = [f for f in files if f.endswith('.csv')]"
   ]
  },
  {
   "cell_type": "code",
   "execution_count": null,
   "metadata": {},
   "outputs": [],
   "source": [
    "# settings generator \n",
    "\n",
    "settings = []\n",
    "exclude = [\"nb:tfidf\",\"nn-2-layer:tfidf\",\"rf:reuseable_MiniLM\",\"logistic:tfidf\"]\n",
    "\n",
    "for model in [\"logistic\"]:                          # \"nb\",\"logistic\", \"nn-2-layer\", \"xgboost\", \"rf\", \"svm\"\n",
    "    for fe in [\"tfidf\"]:                            # \"tfidf\", \"doc2vec\", \"embedding-idf\", \"reuseable_MiniLM\", \"reuseable_sbert\"\n",
    "#       for b in [\"max\"]:                           # \"simple\", \"double\", \"triple\", \"undersample\"\n",
    "#           for q in [\"double\"]:                    # \"max\", \"max_random\", \"max_uncertainty\", \"uncertainty\", \"cluster\"\n",
    "                if not f\"{model}:{fe}\" in exclude:\n",
    "                    settings.append(\"-m {model} -e {fe}\".format(model=model, fe=fe))\n",
    "print(settings, \"\\n\",settings.__len__()*26*109)"
   ]
  },
  {
   "cell_type": "code",
   "execution_count": null,
   "metadata": {},
   "outputs": [],
   "source": [
    "for i, setting in enumerate(settings):\n",
    "    i = i+2\n",
    "    for dataset in files:\n",
    "        template = f\"\"\"apiVersion: batch/v1\n",
    "kind: Job\n",
    "metadata:\n",
    "  name: sim-{dataset.lower().replace(\"_\",\"-\")[:-4]}-{i}\n",
    "spec:\n",
    "  ttlSecondsAfterFinished: 100\n",
    "  template:\n",
    "      metadata:\n",
    "        labels:\n",
    "          app: simulation\n",
    "      spec:\n",
    "        restartPolicy: Never\n",
    "        containers:\n",
    "        - name: sim\n",
    "          image: ghcr.io/jteijema/asreview-simulation-project:latest\n",
    "          resources:\n",
    "            requests:\n",
    "              memory: 4Gi\n",
    "              cpu: 500m\n",
    "          env:\n",
    "          - name: DATASET\n",
    "            value: {dataset[:-4]}\n",
    "          - name: SETTINGS\n",
    "            value: \"{setting}\"\n",
    "          - name: EXOSCALE_API_KEY\n",
    "            valueFrom:\n",
    "              secretKeyRef:\n",
    "                name: exoscale-credentials\n",
    "                key: EXOSCALE_API_KEY\n",
    "          - name: EXOSCALE_API_SECRET\n",
    "            valueFrom:\n",
    "              secretKeyRef:\n",
    "                name: exoscale-credentials\n",
    "                key: EXOSCALE_API_SECRET\n",
    "          - name: EXOSCALE_STORAGE_ZONE\n",
    "            valueFrom:\n",
    "              secretKeyRef:\n",
    "                name: exoscale-credentials\n",
    "                key: EXOSCALE_STORAGE_ZONE\n",
    "          - name: BUCKET\n",
    "            valueFrom:\n",
    "              secretKeyRef:\n",
    "                name: exoscale-credentials\n",
    "                key: BUCKET\"\"\"\n",
    "\n",
    "        # save template to file\n",
    "        with open(f\"jobs/sim-{i}-{dataset.lower().replace('_','-')[:-4]}.yaml\", \"w\") as f:\n",
    "            f.write(template)\n",
    "    "
   ]
  },
  {
   "cell_type": "code",
   "execution_count": null,
   "metadata": {},
   "outputs": [],
   "source": [
    "# get all jobs\n",
    "jobs = os.listdir('jobs')\n",
    "for job in jobs:\n",
    "    print(f\"!kubectl create -f ./jobs/{job}\")\n",
    "    !kubectl create -f ./jobs/{job}"
   ]
  },
  {
   "cell_type": "code",
   "execution_count": 4,
   "metadata": {},
   "outputs": [
    {
     "name": "stdout",
     "output_type": "stream",
     "text": [
      "NAME                                  READY   STATUS    RESTARTS   AGE\n",
      "sim-appenzeller-herzog-2019-0-9xnlr   1/1     Running   0          23h\n",
      "sim-appenzeller-herzog-2019-2-7f5z4   0/1     Pending   0          33m\n",
      "sim-bos-2018-2-ppsf9                  0/1     Pending   0          33m\n",
      "sim-brouwer-2019-0-lztvr              1/1     Running   0          22h\n",
      "sim-brouwer-2019-2-m58kq              0/1     Pending   0          33m\n",
      "sim-chou-2003-2-ll9w5                 0/1     Pending   0          32m\n",
      "sim-chou-2004-2-g9vj2                 0/1     Pending   0          32m\n",
      "sim-donners-2021-2-wdrxk              0/1     Pending   0          32m\n",
      "sim-hall-2012-0-kks2d                 1/1     Running   0          22h\n",
      "sim-hall-2012-2-qbd7m                 0/1     Pending   0          32m\n",
      "sim-jeyaraman-2020-2-dk85v            0/1     Pending   0          32m\n",
      "sim-leenaars-2019-2-6hjm9             0/1     Pending   0          32m\n",
      "sim-leenaars-2020-0-6n8jn             1/1     Running   0          22h\n",
      "sim-leenaars-2020-1-9x2s8             0/1     Pending   0          22h\n",
      "sim-leenaars-2020-2-xf5qm             0/1     Pending   0          32m\n",
      "sim-meijboom-2021-2-qjvcd             0/1     Pending   0          32m\n",
      "sim-menon-2022-2-frphr                0/1     Pending   0          32m\n",
      "sim-moran-2021-0-kj4mq                1/1     Running   0          22h\n",
      "sim-moran-2021-2-9n7nd                0/1     Pending   0          32m\n",
      "sim-muthu-2021-0-x8m7z                1/1     Running   0          22h\n",
      "sim-muthu-2021-2-v5llc                0/1     Pending   0          32m\n",
      "sim-nelson-2002-2-xxqff               0/1     Pending   0          32m\n",
      "sim-oud-2018-2-6jrgt                  0/1     Pending   0          32m\n",
      "sim-radjenovic-2013-2-s4g78           0/1     Pending   0          32m\n",
      "sim-sep-2021-2-6ng2f                  0/1     Pending   0          32m\n",
      "sim-smid-2020-2-lhdrm                 0/1     Pending   0          32m\n",
      "sim-van-de-schoot-2018-2-psvjp        0/1     Pending   0          32m\n",
      "sim-van-der-valk-2021-2-bqj24         0/1     Pending   0          32m\n",
      "sim-van-der-waal-2022-2-cn4jm         0/1     Pending   0          32m\n",
      "sim-van-dis-2020-0-dlcwm              1/1     Running   0          22h\n",
      "sim-van-dis-2020-2-mjvl8              0/1     Pending   0          32m\n",
      "sim-walker-2018-0-qpgnh               1/1     Running   0          22h\n",
      "sim-walker-2018-1-2xdgt               1/1     Running   0          22h\n",
      "sim-walker-2018-2-8rm8m               0/1     Pending   0          32m\n",
      "sim-wassenaar-2017-0-6kctq            1/1     Running   0          22h\n",
      "sim-wassenaar-2017-2-dt9h4            0/1     Pending   0          32m\n",
      "sim-wolters-2018-2-sjdzz              0/1     Pending   0          32m\n"
     ]
    }
   ],
   "source": [
    "!kubectl get pods"
   ]
  }
 ],
 "metadata": {
  "kernelspec": {
   "display_name": "Python 3",
   "language": "python",
   "name": "python3"
  },
  "language_info": {
   "codemirror_mode": {
    "name": "ipython",
    "version": 3
   },
   "file_extension": ".py",
   "mimetype": "text/x-python",
   "name": "python",
   "nbconvert_exporter": "python",
   "pygments_lexer": "ipython3",
   "version": "3.9.8"
  },
  "orig_nbformat": 4
 },
 "nbformat": 4,
 "nbformat_minor": 2
}
